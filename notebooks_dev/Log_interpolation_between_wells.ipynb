{
 "cells": [
  {
   "cell_type": "markdown",
   "id": "097e66cb",
   "metadata": {},
   "source": [
    "# Log interpolation between wells"
   ]
  },
  {
   "cell_type": "markdown",
   "id": "magnetic-plate",
   "metadata": {},
   "source": [
    "## Implementation in bruges"
   ]
  },
  {
   "cell_type": "code",
   "execution_count": 3,
   "id": "adolescent-speed",
   "metadata": {},
   "outputs": [
    {
     "data": {
      "text/plain": [
       "<matplotlib.image.AxesImage at 0x7fee10c50c10>"
      ]
     },
     "execution_count": 3,
     "metadata": {},
     "output_type": "execute_result"
    },
    {
     "data": {
      "image/png": "[encoded data removed]",
      "text/plain": [
       "<Figure size 432x288 with 1 Axes>"
      ]
     },
     "metadata": {
      "needs_background": "light"
     },
     "output_type": "display_data"
    }
   ],
   "source": [
    "import matplotlib.pyplot as plt\n",
    "import numpy as np\n",
    "import bruges as bg\n",
    "\n",
    "a = np.array([2,6,7,7,3])\n",
    "b = np.array([3,7,3])\n",
    "dists = (10,)\n",
    "panel = bg.models.panel(a, b, num=15, dists=dists)\n",
    "\n",
    "plt.imshow(panel)"
   ]
  },
  {
   "cell_type": "markdown",
   "id": "appropriate-wagner",
   "metadata": {},
   "source": [
    "---\n",
    "\n",
    "## Development"
   ]
  },
  {
   "cell_type": "markdown",
   "id": "8816fe69",
   "metadata": {},
   "source": [
    "Make two 1D arrays of made-up data."
   ]
  },
  {
   "cell_type": "code",
   "execution_count": 27,
   "id": "945c7a1d",
   "metadata": {},
   "outputs": [
    {
     "data": {
      "image/png": "[encoded data removed]",
      "text/plain": [
       "<Figure size 432x288 with 1 Axes>"
      ]
     },
     "metadata": {
      "needs_background": "light"
     },
     "output_type": "display_data"
    }
   ],
   "source": [
    "import numpy as np\n",
    "import matplotlib.pyplot as plt\n",
    "\n",
    "a = np.array([3,6,7,8,5,4,5,4,5,4,5,6,6,6,6,6,6,3,2,3])\n",
    "b = np.array([6,7,8,5,2,3,2,3,3,3,1,1,1,3,])\n",
    "c = np.array([9,8,7,5,5,6,5,6,6,6,1,2,3,3,5,6,6,6,3,2,1])\n",
    "d = np.array([6,7,8,5,2,3,2,3,3,3,1,1,1,3,])[::-1]\n",
    "\n",
    "a = np.array([3,6,7,7,3])\n",
    "b = np.array([3,4,5,5,2])\n",
    "\n",
    "# ALL SAME LENGTH\n",
    "# a = np.array([3,6,7,8,5,4,5,4,5,4,5,6,6,6,])\n",
    "# b = np.array([6,7,8,5,2,3,2,3,3,3,1,1,1,3,])\n",
    "# c = np.array([9,8,7,5,5,6,5,6,6,6,1,2,3,3,])\n",
    "\n",
    "plt.plot(a, np.arange(a.size))\n",
    "plt.plot(b + 10, np.arange(b.size))\n",
    "plt.plot(c + 20, np.arange(c.size))\n",
    "plt.plot(d + 30, np.arange(d.size))\n",
    "plt.gca().invert_yaxis()"
   ]
  },
  {
   "cell_type": "markdown",
   "id": "766bfead",
   "metadata": {},
   "source": [
    "## Interpolate alike\n",
    "\n",
    "That is, interpolate between two 1D arrays **of equal length**. The `interpolate_alike` function is the fundamental bit, in terms of the interpolation. The rest of the code deals with the lengths of things."
   ]
  },
  {
   "cell_type": "code",
   "execution_count": 28,
   "id": "3b5cd456",
   "metadata": {},
   "outputs": [],
   "source": [
    "from scipy.ndimage import zoom\n",
    "\n",
    "def reconcile(*arrays, order=0):\n",
    "    \"\"\"\n",
    "    Make sure 1D arrays are the same length.\n",
    "    If not, stretch them to match the longest.\n",
    "    \"\"\"\n",
    "    maxl = max(len(arr) for arr in arrays)\n",
    "    out = []\n",
    "    for arr in arrays:\n",
    "        if len(arr) < maxl:\n",
    "            out.append(zoom(arr, zoom=maxl/len(arr), order=order))\n",
    "        else:\n",
    "            out.append(arr)\n",
    "    return tuple(out)"
   ]
  },
  {
   "cell_type": "code",
   "execution_count": 63,
   "id": "3cca506e",
   "metadata": {},
   "outputs": [
    {
     "data": {
      "text/plain": [
       "<matplotlib.image.AxesImage at 0x7fe0a8ce0340>"
      ]
     },
     "execution_count": 63,
     "metadata": {},
     "output_type": "execute_result"
    },
    {
     "data": {
      "image/png": "[encoded data removed]",
      "text/plain": [
       "<Figure size 432x288 with 1 Axes>"
      ]
     },
     "metadata": {
      "needs_background": "light"
     },
     "output_type": "display_data"
    }
   ],
   "source": [
    "from scipy.interpolate import interp1d\n",
    "\n",
    "def interpolate_alike(*arrays, num=50, dists=None, kind='linear'):\n",
    "    \"\"\"\n",
    "    Linear interpolation between 1D arrays of the\n",
    "    same length.\n",
    "\n",
    "    Args:\n",
    "        num (int): The number of steps to take, so will be\n",
    "            the width (number of cols) of the output\n",
    "            array.\n",
    "        dists (array-like): A list or tuple or array of the\n",
    "            distances (any units) between the arrays in\n",
    "            the real world.\n",
    "        kind (str): Will be passed to scipy.interpolate.interp1d,\n",
    "            which does the lateral interpolation between samples.\n",
    "\n",
    "    Returns:\n",
    "        ndarray. The result, with `num` columns. The number\n",
    "            of rows is the same as the longest input.\n",
    "    \"\"\"\n",
    "    intervals = len(arrays) - 1\n",
    "    if dists is None:\n",
    "        dists = intervals * [num / intervals]\n",
    "    x = np.hstack([[0], np.cumsum(dists)])\n",
    "    f = interp1d(x, np.stack(arrays), axis=0, kind=kind)\n",
    "    return f(np.linspace(x[0], x[-1], num=num)).T\n",
    "\n",
    "\n",
    "a = np.array([2,6,7,7,3])\n",
    "b = np.array([3,7,3])\n",
    "\n",
    "rec = reconcile(a, b, order=0)\n",
    "sizes = (1, 0.5)\n",
    "dists = (10,)\n",
    "interp = interpolate_alike(*rec, dists=dists, num=15)\n",
    "\n",
    "plt.imshow(interp)"
   ]
  },
  {
   "cell_type": "markdown",
   "id": "0347324a",
   "metadata": {},
   "source": [
    "## Stretch to any proportions"
   ]
  },
  {
   "cell_type": "code",
   "execution_count": 65,
   "id": "7ebe8553",
   "metadata": {},
   "outputs": [
    {
     "data": {
      "text/plain": [
       "<matplotlib.image.AxesImage at 0x7fe0b0f45640>"
      ]
     },
     "execution_count": 65,
     "metadata": {},
     "output_type": "execute_result"
    },
    {
     "data": {
      "image/png": "[encoded data removed]",
      "text/plain": [
       "<Figure size 432x288 with 1 Axes>"
      ]
     },
     "metadata": {
      "needs_background": "light"
     },
     "output_type": "display_data"
    }
   ],
   "source": [
    "def unreconcile(arr, sizes, dists=None, order=0):\n",
    "    \"\"\"\n",
    "    Opposite of reconcile.\n",
    "    \n",
    "    sizes (int): The relative lengths of the profiles\n",
    "        in the array. Default returns the input array.\n",
    "    dists (array-like): The relative distances between\n",
    "        the profiles in the array. Sum used to calculate\n",
    "        the output width in pixels if the width argument\n",
    "        is None. If not given, the distances are assumed\n",
    "        to be equal.\n",
    "    order (int): The order of the spline interpolation,\n",
    "        from 0 to 3. The default is 0, which gives\n",
    "        nearest neighbour interpolation. 1 gives linear\n",
    "        interpolation, etc. Use 0 for ints and 1-3 for\n",
    "        floats.\n",
    "    \"\"\"\n",
    "    if np.all(sizes[0] == np.array(sizes)):\n",
    "        # Nothing to do.\n",
    "        return arr\n",
    "\n",
    "    intervals = len(sizes) - 1\n",
    "\n",
    "    if dists is None:\n",
    "        eq = arr.shape[-1] // intervals\n",
    "        dists = [eq] * intervals\n",
    "    assert len(dists) == intervals\n",
    "    \n",
    "    maxlen = int(np.ceil(max(sizes) * arr.shape[0]))\n",
    "    \n",
    "    dist_ = np.cumsum(dists)\n",
    "    idx = arr.shape[-1] * dist_ / max(dist_)\n",
    "    chunks = np.split(arr, idx[:-1].astype(int), axis=-1)\n",
    "\n",
    "    zoomed = []\n",
    "    for left, right, chunk in zip(sizes[:-1], sizes[1:], chunks):\n",
    "        zooms = np.linspace(left, right, chunk.shape[-1]+1)\n",
    "        for z, col in zip(zooms, chunk.T):\n",
    "            new_ = zoom(col, zoom=z, order=order, mode='nearest')\n",
    "            pad_width = maxlen - new_.size\n",
    "            new = np.pad(new_, pad_width=(0, pad_width), mode='constant', constant_values=np.nan)\n",
    "            zoomed.append(new)\n",
    "\n",
    "    return np.array(zoomed).T\n",
    "\n",
    "panel = unreconcile(interp, sizes=sizes, dists=dists, order=0)\n",
    "\n",
    "plt.imshow(panel, aspect='auto', interpolation='none')"
   ]
  },
  {
   "cell_type": "code",
   "execution_count": 57,
   "id": "private-guide",
   "metadata": {},
   "outputs": [
    {
     "data": {
      "text/plain": [
       "[5, 3]"
      ]
     },
     "execution_count": 57,
     "metadata": {},
     "output_type": "execute_result"
    }
   ],
   "source": [
    "sizes"
   ]
  },
  {
   "cell_type": "markdown",
   "id": "176dd4f4",
   "metadata": {},
   "source": [
    "## Generate panel for arbitrary inputs\n",
    "\n",
    "Bring it all together..."
   ]
  },
  {
   "cell_type": "code",
   "execution_count": 67,
   "id": "6f92c5ff",
   "metadata": {},
   "outputs": [
    {
     "data": {
      "text/plain": [
       "(5, 15)"
      ]
     },
     "execution_count": 67,
     "metadata": {},
     "output_type": "execute_result"
    }
   ],
   "source": [
    "def interpolate(*arrays, num=50, dists=None, order=0, kind='linear'):\n",
    "    \"\"\"\n",
    "    Interpolate an arbitrary collection of 1D arrays.\n",
    "    \"\"\"\n",
    "    sizes = np.array([len(x) for x in arrays])\n",
    "    sizes = sizes / np.max(sizes)\n",
    "    rec = reconcile(*arrays)\n",
    "    interp = interpolate_alike(*rec, num=num, dists=dists, kind=kind)\n",
    "    panel = unreconcile(interp, sizes=sizes, dists=dists, order=order)\n",
    "    return panel\n",
    "\n",
    "a = np.array([2,6,7,7,3])\n",
    "b = np.array([3,7,3])\n",
    "rec = reconcile(a, b, order=0)\n",
    "dists = (10,)\n",
    "panel = interpolate(a, b, num=15, dists=dists)\n",
    "panel.shape\n",
    "# plt.imshow(panel, aspect='auto', interpolation='none')"
   ]
  },
  {
   "cell_type": "code",
   "execution_count": 70,
   "id": "bd56d2e4",
   "metadata": {},
   "outputs": [
    {
     "data": {
      "text/plain": [
       "array([2.5, 6.5, 5. , 3. , nan])"
      ]
     },
     "execution_count": 70,
     "metadata": {},
     "output_type": "execute_result"
    }
   ],
   "source": [
    "panel[:, 7]"
   ]
  },
  {
   "cell_type": "code",
   "execution_count": 69,
   "id": "processed-helping",
   "metadata": {},
   "outputs": [
    {
     "data": {
      "text/plain": [
       "<matplotlib.image.AxesImage at 0x7fe0b929b070>"
      ]
     },
     "execution_count": 69,
     "metadata": {},
     "output_type": "execute_result"
    },
    {
     "data": {
      "image/png": "[encoded data removed]",
      "text/plain": [
       "<Figure size 432x288 with 1 Axes>"
      ]
     },
     "metadata": {
      "needs_background": "light"
     },
     "output_type": "display_data"
    }
   ],
   "source": [
    "plt.imshow(panel)"
   ]
  },
  {
   "cell_type": "code",
   "execution_count": null,
   "id": "informed-april",
   "metadata": {},
   "outputs": [],
   "source": []
  }
 ],
 "metadata": {
  "kernelspec": {
   "display_name": "py39",
   "language": "python",
   "name": "py39"
  },
  "language_info": {
   "codemirror_mode": {
    "name": "ipython",
    "version": 3
   },
   "file_extension": ".py",
   "mimetype": "text/x-python",
   "name": "python",
   "nbconvert_exporter": "python",
   "pygments_lexer": "ipython3",
   "version": "3.9.7"
  }
 },
 "nbformat": 4,
 "nbformat_minor": 5
}
